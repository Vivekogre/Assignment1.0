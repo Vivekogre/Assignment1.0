{
 "cells": [
  {
   "cell_type": "code",
   "execution_count": 1,
   "id": "9d948053-9dcf-4a11-97de-13ff57a3153e",
   "metadata": {},
   "outputs": [],
   "source": [
    "a='vivek'"
   ]
  },
  {
   "cell_type": "code",
   "execution_count": 2,
   "id": "c82d98d6-d153-45a4-a545-da163cc75878",
   "metadata": {},
   "outputs": [],
   "source": [
    "l=[1,2,3,4,'vivek',True,34.65]"
   ]
  },
  {
   "cell_type": "code",
   "execution_count": 3,
   "id": "99cf02ee-6d3f-4c1e-9506-05585dde9150",
   "metadata": {},
   "outputs": [],
   "source": [
    "b=45.66"
   ]
  },
  {
   "cell_type": "code",
   "execution_count": 4,
   "id": "e37ac01b-3578-4ade-aea3-43e2997860d1",
   "metadata": {},
   "outputs": [],
   "source": [
    "c = (\"apple\", \"banana\", \"cherry\")"
   ]
  },
  {
   "cell_type": "code",
   "execution_count": 5,
   "id": "6f460358-331b-403d-8ec3-ac4b215e69ce",
   "metadata": {},
   "outputs": [],
   "source": [
    "#string data type"
   ]
  },
  {
   "cell_type": "code",
   "execution_count": 6,
   "id": "dc5ac101-55e6-4e3c-bf3d-d1f7b5f73add",
   "metadata": {},
   "outputs": [],
   "source": [
    "#invalid variable"
   ]
  },
  {
   "cell_type": "code",
   "execution_count": 7,
   "id": "e9d0b266-cd38-4a99-a53a-717b3ae24ef0",
   "metadata": {},
   "outputs": [],
   "source": [
    "#list"
   ]
  },
  {
   "cell_type": "code",
   "execution_count": 9,
   "id": "48c615b4-0eee-43b4-a969-de35335da670",
   "metadata": {},
   "outputs": [],
   "source": [
    "#int"
   ]
  },
  {
   "cell_type": "code",
   "execution_count": 10,
   "id": "51711f9c-dd06-4242-b821-cc48b138e6ea",
   "metadata": {},
   "outputs": [],
   "source": [
    "#/ finds the floating division value. for example 4/5 will give 0.8"
   ]
  },
  {
   "cell_type": "code",
   "execution_count": 11,
   "id": "257909c3-ccbd-4b2f-9bd4-79b35ead3939",
   "metadata": {},
   "outputs": [],
   "source": [
    "#% finds the remainder of the division .for example 7%4 will give 3"
   ]
  },
  {
   "cell_type": "code",
   "execution_count": 12,
   "id": "b9cb67ca-b663-46f7-90fd-46e845db11f3",
   "metadata": {},
   "outputs": [],
   "source": [
    "#// gives integer division value.for example 7//4 will give 1"
   ]
  },
  {
   "cell_type": "code",
   "execution_count": 13,
   "id": "2ca5a929-0138-42e7-9ec8-f1322211cc30",
   "metadata": {},
   "outputs": [],
   "source": [
    "# ** gives any number raised to another number.for example 2**3 will give 8"
   ]
  },
  {
   "cell_type": "code",
   "execution_count": 14,
   "id": "2c27e362-64b8-4c13-843c-d4393aa25d76",
   "metadata": {},
   "outputs": [
    {
     "name": "stdout",
     "output_type": "stream",
     "text": [
      "1\n",
      "<class 'int'>\n",
      "2\n",
      "<class 'int'>\n",
      "3\n",
      "<class 'int'>\n",
      "4\n",
      "<class 'int'>\n",
      "5\n",
      "<class 'int'>\n",
      "vivek\n",
      "<class 'str'>\n",
      "True\n",
      "<class 'bool'>\n",
      "False\n",
      "<class 'bool'>\n",
      "45.76\n",
      "<class 'float'>\n",
      "(4+5j)\n",
      "<class 'complex'>\n"
     ]
    }
   ],
   "source": [
    "m=[1,2,3,4,5,'vivek',True,False,45.76,4+5j]\n",
    "for i in m:\n",
    "    print(i)\n",
    "    print(type(i))"
   ]
  },
  {
   "cell_type": "code",
   "execution_count": 22,
   "id": "c2ca8500-874f-4f72-9bf9-56d5bd8b6695",
   "metadata": {},
   "outputs": [
    {
     "name": "stdin",
     "output_type": "stream",
     "text": [
      " 20\n",
      " 5\n"
     ]
    },
    {
     "name": "stdout",
     "output_type": "stream",
     "text": [
      "number is divisible and number of times it is divisible is \n",
      "1\n"
     ]
    }
   ],
   "source": [
    "A=int(input())\n",
    "B=int(input())\n",
    "rem=A%B\n",
    "count=0\n",
    "while rem==0:\n",
    "    count=count+1\n",
    "    A=A/B\n",
    "    rem=A%B\n",
    "if count>0:\n",
    "    print(\"number is divisible and number of times it is divisible is \")\n",
    "    print(count)\n",
    "else:\n",
    "    print(\"number is not divisible\")"
   ]
  },
  {
   "cell_type": "code",
   "execution_count": 18,
   "id": "b6bf5173-614c-4485-8313-69ecdb98da81",
   "metadata": {},
   "outputs": [
    {
     "name": "stdout",
     "output_type": "stream",
     "text": [
      "1\n",
      "number is not divisible by 3\n",
      "2\n",
      "number is not divisible by 3\n",
      "3\n",
      "number is divisible by 3\n",
      "4\n",
      "number is not divisible by 3\n",
      "5\n",
      "number is not divisible by 3\n",
      "6\n",
      "number is divisible by 3\n",
      "7\n",
      "number is not divisible by 3\n",
      "8\n",
      "number is not divisible by 3\n",
      "9\n",
      "number is divisible by 3\n",
      "10\n",
      "number is not divisible by 3\n",
      "11\n",
      "number is not divisible by 3\n",
      "12\n",
      "number is divisible by 3\n",
      "13\n",
      "number is not divisible by 3\n",
      "14\n",
      "number is not divisible by 3\n",
      "15\n",
      "number is divisible by 3\n",
      "16\n",
      "number is not divisible by 3\n",
      "17\n",
      "number is not divisible by 3\n",
      "18\n",
      "number is divisible by 3\n",
      "19\n",
      "number is not divisible by 3\n",
      "20\n",
      "number is not divisible by 3\n",
      "21\n",
      "number is divisible by 3\n",
      "22\n",
      "number is not divisible by 3\n",
      "23\n",
      "number is not divisible by 3\n",
      "24\n",
      "number is divisible by 3\n",
      "25\n",
      "number is not divisible by 3\n"
     ]
    }
   ],
   "source": [
    "n=[1,2,3,4,5,6,7,8,9,10,11,12,13,14,15,16,17,18,19,20,21,22,23,24,25]\n",
    "for i in n:\n",
    "    print(i)\n",
    "    if i%3==0:\n",
    "        print(\"number is divisible by 3\")\n",
    "    else:\n",
    "        print(\"number is not divisible by 3\")\n",
    "    "
   ]
  },
  {
   "cell_type": "code",
   "execution_count": null,
   "id": "f8493b39-1b30-4a47-a482-24356c89799b",
   "metadata": {},
   "outputs": [],
   "source": [
    "#mutable data types are those data types in which changes can be made by not creating a new object\n",
    "#that is by not changing its identity.for example lists thata allow you to make changes by replacing its items\n",
    "#if l=[1,2,3,4,5] and i make l[0]=6 then l will become[6,2,3,4,5]\n",
    "#On the other hand immmutable data types do not allow changes in themselves until a new object is created that is \n",
    "#its identity has to be changed in order to make changes.for example strings.In strings suppose "
   ]
  }
 ],
 "metadata": {
  "kernelspec": {
   "display_name": "Python 3 (ipykernel)",
   "language": "python",
   "name": "python3"
  },
  "language_info": {
   "codemirror_mode": {
    "name": "ipython",
    "version": 3
   },
   "file_extension": ".py",
   "mimetype": "text/x-python",
   "name": "python",
   "nbconvert_exporter": "python",
   "pygments_lexer": "ipython3",
   "version": "3.10.8"
  }
 },
 "nbformat": 4,
 "nbformat_minor": 5
}
